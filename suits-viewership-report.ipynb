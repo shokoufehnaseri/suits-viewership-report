{
 "cells": [
  {
   "cell_type": "markdown",
   "metadata": {},
   "source": [
    "# **_Suits_ Viewership Report**\n",
    "\n",
    "## **About the Show**\n",
    "*Suits* is an American legal drama television series created by **Aaron Korsh**. It premiered on **USA Network** in June 2011...\n",
    "\n",
    "![Suits Logo](/Users/shokoufehnaseri/Library/CloudStorage/OneDrive-Personal/fourth_semester/suits-viewership-report/Image/suits-tv-series8124.jpg)\n",
    "\n",
    "\n",
    "## **Viewership Summary**\n",
    "- Total Seasons: 9  \n",
    "- Average Viewership: XX million  \n",
    "- Peak Viewership: XX million (Season X)  \n",
    "- Lowest Viewership: XX million (Season X)  \n",
    "\n",
    "## **Viewership Over Time**\n",
    "*(Insert Line Plot)*\n",
    "\n",
    "## **Season-to-Season Changes**\n",
    "*(Insert Bar Chart)*\n",
    "\n",
    "Between **Season 3 and Season 4**, viewership decreased by **1.2 million**. The final season saw a notable dip, with only **0.9 million** average viewers...\n",
    "\n",
    "---\n"
   ]
  }
 ],
 "metadata": {
  "kernelspec": {
   "display_name": "3.10.13",
   "language": "python",
   "name": "python3"
  },
  "language_info": {
   "codemirror_mode": {
    "name": "ipython",
    "version": 3
   },
   "file_extension": ".py",
   "mimetype": "text/x-python",
   "name": "python",
   "nbconvert_exporter": "python",
   "pygments_lexer": "ipython3",
   "version": "3.10.13"
  }
 },
 "nbformat": 4,
 "nbformat_minor": 2
}
